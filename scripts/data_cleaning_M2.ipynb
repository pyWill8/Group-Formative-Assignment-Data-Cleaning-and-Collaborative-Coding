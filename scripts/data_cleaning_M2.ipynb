{
 "cells": [
  {
   "cell_type": "code",
   "execution_count": 1,
   "metadata": {},
   "outputs": [],
   "source": [
    "#download the data\n",
    "import requests\n",
    "import os\n",
    "\n",
    "def import_data(url):\n",
    "    response = requests.get(url)\n",
    "    \n",
    "    if response.status_code == 200:\n",
    "        # If the request is successful, store the response text into data_text_list\n",
    "        data_text_list = response.text.splitlines()\n",
    "    \n",
    "    # Ensure the 'data' folder exists\n",
    "    if not os.path.exists(\"../data\"):\n",
    "        os.makedirs(\"../data\")\n",
    "    \n",
    "    #create a new file to save downloading data\n",
    "    with open('../data/dataset_M2.txt', \"w\") as f:\n",
    "        f.write(\"\\n\".join(data_text_list))\n",
    "\n",
    "    #check downloading data file format\n",
    "    with open(\"../data/dataset_M2.txt\", \"r\") as f:\n",
    "        print(f.readline())\n",
    "    #dataset_M2.txt is csv file\n",
    "\n",
    "    return data_text_list\n",
    "url = \"https://earthquake.usgs.gov/fdsnws/event/1/query?format=csv&starttime=2023-01-01&endtime=2023-01-02\"\n",
    "\n",
    "\n"
   ]
  },
  {
   "cell_type": "code",
   "execution_count": 2,
   "metadata": {},
   "outputs": [
    {
     "name": "stdout",
     "output_type": "stream",
     "text": [
      "                       time  latitude  longitude  depth   mag magType   nst  \\\n",
      "0  2023-01-01T23:59:29.195Z   -2.4930   140.7385   10.0  4.20      mb  19.0   \n",
      "1  2023-01-01T23:56:53.930Z   19.3601   -65.7256   34.0  3.62      md  14.0   \n",
      "\n",
      "     gap     dmin   rms  ...                   updated  \\\n",
      "0   99.0  16.4950  0.45  ...  2023-03-11T22:51:46.040Z   \n",
      "1  270.0   1.1104  0.44  ...  2023-01-02T00:32:06.212Z   \n",
      "\n",
      "                             place        type horizontalError depthError  \\\n",
      "0  5 km NNE of Jayapura, Indonesia  earthquake           10.43      1.863   \n",
      "1  103 km N of Suárez, Puerto Rico  earthquake            3.64     25.850   \n",
      "\n",
      "   magError  magNst    status  locationSource magSource  \n",
      "0     0.175     9.0  reviewed              us        us  \n",
      "1     0.080     4.0  reviewed              pr        pr  \n",
      "\n",
      "[2 rows x 22 columns]\n"
     ]
    }
   ],
   "source": [
    "#read and check downloading data\n",
    "import pandas as pd\n",
    "df = pd.read_csv('../data/dataset_M2.txt')\n",
    "print(df.head(2))\n"
   ]
  },
  {
   "cell_type": "code",
   "execution_count": 3,
   "metadata": {},
   "outputs": [
    {
     "name": "stdout",
     "output_type": "stream",
     "text": [
      "time,latitude,longitude,depth,mag,magType,nst,gap,dmin,rms,net,id,updated,place,type,horizontalError,depthError,magError,magNst,status,locationSource,magSource\n",
      "\n",
      "                  time  latitude   longitude  depth   mag magType   nst  \\\n",
      "0  2023-01-01 23:59:29   -2.4930  140.738500  10.00  4.20      mb  19.0   \n",
      "1  2023-01-01 23:56:53   19.3601  -65.725600  34.00  3.62      md  14.0   \n",
      "2  2023-01-01 23:54:37   58.2275 -155.180333   3.08 -0.76      ml   6.0   \n",
      "\n",
      "     gap     dmin   rms  ...              updated  \\\n",
      "0   99.0  16.4950  0.45  ...  2023-03-11 22:51:46   \n",
      "1  270.0   1.1104  0.44  ...  2023-01-02 00:32:06   \n",
      "2  217.0      NaN  0.06  ...  2023-01-04 19:26:22   \n",
      "\n",
      "                             place        type horizontalError depthError  \\\n",
      "0  5 km NNE of Jayapura, Indonesia  earthquake           10.43      1.863   \n",
      "1  103 km N of Suárez, Puerto Rico  earthquake            3.64     25.850   \n",
      "2      85 km NNW of Karluk, Alaska  earthquake            0.48      0.890   \n",
      "\n",
      "   magError  magNst    status  locationSource magSource  \n",
      "0  0.175000     9.0  reviewed              us        us  \n",
      "1  0.080000     4.0  reviewed              pr        pr  \n",
      "2  0.176357     6.0  reviewed              av        av  \n",
      "\n",
      "[3 rows x 22 columns]\n"
     ]
    }
   ],
   "source": [
    "#clean data\n",
    "from io import StringIO\n",
    "\n",
    "data_text_list = import_data(url)\n",
    "def clean_data(data_text_list):\n",
    "    # Combine the list of strings into a single CSV-formatted string\n",
    "    csv_text = \"\\n\".join(data_text_list)\n",
    "    df = pd.read_csv(StringIO(csv_text), sep=\",\", header=0)\n",
    "\n",
    "    #standardize time format\n",
    "    df['time'] = pd.to_datetime(df['time']).dt.strftime('%Y-%m-%d %H:%M:%S')\n",
    "    df['updated'] = pd.to_datetime(df['updated']).dt.strftime('%Y-%m-%d %H:%M:%S')\n",
    "    \n",
    "    #Ensure the 'output' folder exists\n",
    "    #save cleaned data to output folder\n",
    "    df_txt = df.to_string()\n",
    "    with open('/workspaces/Group-Formative-Assignment-Data-Cleaning-and-Collaborative-Coding//output/cleaned_data_M2.txt', \"w\") as f:\n",
    "      f.write(df_txt)\n",
    "\n",
    "    return df\n",
    "print(clean_data(data_text_list).head(3))"
   ]
  }
 ],
 "metadata": {
  "kernelspec": {
   "display_name": "Python 3",
   "language": "python",
   "name": "python3"
  },
  "language_info": {
   "codemirror_mode": {
    "name": "ipython",
    "version": 3
   },
   "file_extension": ".py",
   "mimetype": "text/x-python",
   "name": "python",
   "nbconvert_exporter": "python",
   "pygments_lexer": "ipython3",
   "version": "3.12.1"
  }
 },
 "nbformat": 4,
 "nbformat_minor": 2
}
